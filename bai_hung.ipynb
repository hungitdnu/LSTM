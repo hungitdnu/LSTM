{
 "cells": [
  {
   "cell_type": "code",
   "execution_count": 4,
   "id": "cfc94745",
   "metadata": {},
   "outputs": [],
   "source": [
    "import pandas as pd\n",
    "import numpy as np\n",
    "import matplotlib.pyplot as plt\n",
    "from sklearn.preprocessing import MinMaxScaler\n",
    "from keras.models import Sequential\n",
    "from keras.layers import Dense, Dropout, LSTM\n",
    "import yfinance as yf\n",
    "import datetime as dt\n"
   ]
  },
  {
   "cell_type": "code",
   "execution_count": null,
   "id": "195cfcb0",
   "metadata": {},
   "outputs": [],
   "source": []
  },
  {
   "cell_type": "code",
   "execution_count": 5,
   "id": "d5391f3b",
   "metadata": {},
   "outputs": [
    {
     "name": "stdout",
     "output_type": "stream",
     "text": [
      "[*********************100%%**********************]  1 of 1 completed\n"
     ]
    },
    {
     "data": {
      "text/html": [
       "<div>\n",
       "<style scoped>\n",
       "    .dataframe tbody tr th:only-of-type {\n",
       "        vertical-align: middle;\n",
       "    }\n",
       "\n",
       "    .dataframe tbody tr th {\n",
       "        vertical-align: top;\n",
       "    }\n",
       "\n",
       "    .dataframe thead th {\n",
       "        text-align: right;\n",
       "    }\n",
       "</style>\n",
       "<table border=\"1\" class=\"dataframe\">\n",
       "  <thead>\n",
       "    <tr style=\"text-align: right;\">\n",
       "      <th></th>\n",
       "      <th>Date</th>\n",
       "      <th>Open</th>\n",
       "      <th>High</th>\n",
       "      <th>Low</th>\n",
       "      <th>Close</th>\n",
       "      <th>Adj Close</th>\n",
       "      <th>Volume</th>\n",
       "    </tr>\n",
       "  </thead>\n",
       "  <tbody>\n",
       "    <tr>\n",
       "      <th>0</th>\n",
       "      <td>2010-01-04</td>\n",
       "      <td>7.622500</td>\n",
       "      <td>7.660714</td>\n",
       "      <td>7.585000</td>\n",
       "      <td>7.643214</td>\n",
       "      <td>6.487535</td>\n",
       "      <td>493729600</td>\n",
       "    </tr>\n",
       "    <tr>\n",
       "      <th>1</th>\n",
       "      <td>2010-01-05</td>\n",
       "      <td>7.664286</td>\n",
       "      <td>7.699643</td>\n",
       "      <td>7.616071</td>\n",
       "      <td>7.656429</td>\n",
       "      <td>6.498751</td>\n",
       "      <td>601904800</td>\n",
       "    </tr>\n",
       "    <tr>\n",
       "      <th>2</th>\n",
       "      <td>2010-01-06</td>\n",
       "      <td>7.656429</td>\n",
       "      <td>7.686786</td>\n",
       "      <td>7.526786</td>\n",
       "      <td>7.534643</td>\n",
       "      <td>6.395380</td>\n",
       "      <td>552160000</td>\n",
       "    </tr>\n",
       "    <tr>\n",
       "      <th>3</th>\n",
       "      <td>2010-01-07</td>\n",
       "      <td>7.562500</td>\n",
       "      <td>7.571429</td>\n",
       "      <td>7.466071</td>\n",
       "      <td>7.520714</td>\n",
       "      <td>6.383555</td>\n",
       "      <td>477131200</td>\n",
       "    </tr>\n",
       "    <tr>\n",
       "      <th>4</th>\n",
       "      <td>2010-01-08</td>\n",
       "      <td>7.510714</td>\n",
       "      <td>7.571429</td>\n",
       "      <td>7.466429</td>\n",
       "      <td>7.570714</td>\n",
       "      <td>6.425994</td>\n",
       "      <td>447610800</td>\n",
       "    </tr>\n",
       "    <tr>\n",
       "      <th>...</th>\n",
       "      <td>...</td>\n",
       "      <td>...</td>\n",
       "      <td>...</td>\n",
       "      <td>...</td>\n",
       "      <td>...</td>\n",
       "      <td>...</td>\n",
       "      <td>...</td>\n",
       "    </tr>\n",
       "    <tr>\n",
       "      <th>3016</th>\n",
       "      <td>2021-12-27</td>\n",
       "      <td>177.089996</td>\n",
       "      <td>180.419998</td>\n",
       "      <td>177.070007</td>\n",
       "      <td>180.330002</td>\n",
       "      <td>178.527756</td>\n",
       "      <td>74919600</td>\n",
       "    </tr>\n",
       "    <tr>\n",
       "      <th>3017</th>\n",
       "      <td>2021-12-28</td>\n",
       "      <td>180.160004</td>\n",
       "      <td>181.330002</td>\n",
       "      <td>178.529999</td>\n",
       "      <td>179.289993</td>\n",
       "      <td>177.498154</td>\n",
       "      <td>79144300</td>\n",
       "    </tr>\n",
       "    <tr>\n",
       "      <th>3018</th>\n",
       "      <td>2021-12-29</td>\n",
       "      <td>179.330002</td>\n",
       "      <td>180.630005</td>\n",
       "      <td>178.139999</td>\n",
       "      <td>179.380005</td>\n",
       "      <td>177.587265</td>\n",
       "      <td>62348900</td>\n",
       "    </tr>\n",
       "    <tr>\n",
       "      <th>3019</th>\n",
       "      <td>2021-12-30</td>\n",
       "      <td>179.470001</td>\n",
       "      <td>180.570007</td>\n",
       "      <td>178.089996</td>\n",
       "      <td>178.199997</td>\n",
       "      <td>176.419067</td>\n",
       "      <td>59773000</td>\n",
       "    </tr>\n",
       "    <tr>\n",
       "      <th>3020</th>\n",
       "      <td>2021-12-31</td>\n",
       "      <td>178.089996</td>\n",
       "      <td>179.229996</td>\n",
       "      <td>177.259995</td>\n",
       "      <td>177.570007</td>\n",
       "      <td>175.795349</td>\n",
       "      <td>64062300</td>\n",
       "    </tr>\n",
       "  </tbody>\n",
       "</table>\n",
       "<p>3021 rows × 7 columns</p>\n",
       "</div>"
      ],
      "text/plain": [
       "           Date        Open        High         Low       Close   Adj Close  \\\n",
       "0    2010-01-04    7.622500    7.660714    7.585000    7.643214    6.487535   \n",
       "1    2010-01-05    7.664286    7.699643    7.616071    7.656429    6.498751   \n",
       "2    2010-01-06    7.656429    7.686786    7.526786    7.534643    6.395380   \n",
       "3    2010-01-07    7.562500    7.571429    7.466071    7.520714    6.383555   \n",
       "4    2010-01-08    7.510714    7.571429    7.466429    7.570714    6.425994   \n",
       "...         ...         ...         ...         ...         ...         ...   \n",
       "3016 2021-12-27  177.089996  180.419998  177.070007  180.330002  178.527756   \n",
       "3017 2021-12-28  180.160004  181.330002  178.529999  179.289993  177.498154   \n",
       "3018 2021-12-29  179.330002  180.630005  178.139999  179.380005  177.587265   \n",
       "3019 2021-12-30  179.470001  180.570007  178.089996  178.199997  176.419067   \n",
       "3020 2021-12-31  178.089996  179.229996  177.259995  177.570007  175.795349   \n",
       "\n",
       "         Volume  \n",
       "0     493729600  \n",
       "1     601904800  \n",
       "2     552160000  \n",
       "3     477131200  \n",
       "4     447610800  \n",
       "...         ...  \n",
       "3016   74919600  \n",
       "3017   79144300  \n",
       "3018   62348900  \n",
       "3019   59773000  \n",
       "3020   64062300  \n",
       "\n",
       "[3021 rows x 7 columns]"
      ]
     },
     "execution_count": 5,
     "metadata": {},
     "output_type": "execute_result"
    }
   ],
   "source": [
    "# Lấy dữ liệu giá cổ phiếu Apple từ Yahoo Finance\n",
    "company = 'AAPL'\n",
    "end_train = \"2022-01-01\"\n",
    "start_test = end_train\n",
    "start=\"2010-01-01\"\n",
    "data = yf.download(company, start= start, end=end_train)\n",
    "data =data.reset_index()\n",
    "data"
   ]
  },
  {
   "cell_type": "code",
   "execution_count": 6,
   "id": "aa773ff6",
   "metadata": {},
   "outputs": [
    {
     "data": {
      "text/plain": [
       "<function matplotlib.pyplot.show(close=None, block=None)>"
      ]
     },
     "execution_count": 6,
     "metadata": {},
     "output_type": "execute_result"
    },
    {
     "data": {
      "image/png": "[encoded data removed]",
      "text/plain": [
       "<Figure size 1200x500 with 1 Axes>"
      ]
     },
     "metadata": {},
     "output_type": "display_data"
    }
   ],
   "source": [
    "\n",
    "data['Close'].plot(figsize=(12,5))\n",
    "plt.legend()\n",
    "plt.show"
   ]
  },
  {
   "cell_type": "code",
   "execution_count": 7,
   "id": "6387a846",
   "metadata": {},
   "outputs": [],
   "source": [
    "# Lấy cột Close làm dữ liệu đầu vào\n",
    "data = data['Close'].values.reshape(-1, 1)\n",
    "\n",
    "# Chia dữ liệu thành tập train và tập test\n",
    "train_data = data[:len(data)]\n",
    "# Chuẩn hóa dữ liệu\n",
    "scaler = MinMaxScaler()\n",
    "train_data_norm = scaler.fit_transform(train_data)\n",
    "# Xác định số lượng ngày quan sát trong quá khứ\n",
    "look_back = 4\n",
    "\n",
    "# Tạo dữ liệu cho quá trình huấn luyện\n",
    "X_train = []\n",
    "y_train = []\n",
    "for i in range(look_back, len(train_data_norm)):\n",
    "    X_train.append(train_data_norm[i-look_back:i, 0])\n",
    "    y_train.append(train_data_norm[i, 0])\n",
    "X_train, y_train = np.array(X_train), np.array(y_train)\n",
    "# Reshape dữ liệu cho phù hợp với đầu vào của LSTM\n",
    "X_train = np.reshape(X_train, (X_train.shape[0], X_train.shape[1], 1))\n",
    "\n"
   ]
  },
  {
   "cell_type": "code",
   "execution_count": 8,
   "id": "1b8c515d",
   "metadata": {},
   "outputs": [
    {
     "name": "stdout",
     "output_type": "stream",
     "text": [
      "Epoch 1/50\n",
      "95/95 [==============================] - 18s 51ms/step - loss: 0.0121\n",
      "Epoch 2/50\n",
      "95/95 [==============================] - 4s 43ms/step - loss: 4.1780e-04\n",
      "Epoch 3/50\n",
      "95/95 [==============================] - 4s 38ms/step - loss: 5.8656e-04\n",
      "Epoch 4/50\n",
      "95/95 [==============================] - 3s 36ms/step - loss: 4.3823e-04\n",
      "Epoch 5/50\n",
      "95/95 [==============================] - 4s 39ms/step - loss: 3.5646e-04\n",
      "Epoch 6/50\n",
      "95/95 [==============================] - 4s 37ms/step - loss: 5.5692e-04\n",
      "Epoch 7/50\n",
      "95/95 [==============================] - 3s 37ms/step - loss: 5.7563e-04\n",
      "Epoch 8/50\n",
      "95/95 [==============================] - 3s 37ms/step - loss: 2.8707e-04\n",
      "Epoch 9/50\n",
      "95/95 [==============================] - 3s 37ms/step - loss: 3.2065e-04\n",
      "Epoch 10/50\n",
      "95/95 [==============================] - 3s 36ms/step - loss: 4.0787e-04\n",
      "Epoch 11/50\n",
      "95/95 [==============================] - 4s 39ms/step - loss: 2.9908e-04\n",
      "Epoch 12/50\n",
      "95/95 [==============================] - 4s 38ms/step - loss: 2.8832e-04\n",
      "Epoch 13/50\n",
      "95/95 [==============================] - 3s 37ms/step - loss: 2.9032e-04\n",
      "Epoch 14/50\n",
      "95/95 [==============================] - 3s 36ms/step - loss: 3.0635e-04\n",
      "Epoch 15/50\n",
      "95/95 [==============================] - 3s 37ms/step - loss: 3.2751e-04\n",
      "Epoch 16/50\n",
      "95/95 [==============================] - 3s 37ms/step - loss: 6.1884e-04\n",
      "Epoch 17/50\n",
      "95/95 [==============================] - 4s 37ms/step - loss: 3.3710e-04\n",
      "Epoch 18/50\n",
      "95/95 [==============================] - 3s 37ms/step - loss: 4.0821e-04\n",
      "Epoch 19/50\n",
      "95/95 [==============================] - 4s 40ms/step - loss: 2.7905e-04\n",
      "Epoch 20/50\n",
      "95/95 [==============================] - 3s 37ms/step - loss: 3.6750e-04\n",
      "Epoch 21/50\n",
      "95/95 [==============================] - 3s 37ms/step - loss: 2.4536e-04\n",
      "Epoch 22/50\n",
      "95/95 [==============================] - 4s 37ms/step - loss: 2.6414e-04\n",
      "Epoch 23/50\n",
      "95/95 [==============================] - 4s 37ms/step - loss: 2.4676e-04\n",
      "Epoch 24/50\n",
      "95/95 [==============================] - 4s 37ms/step - loss: 2.8885e-04\n",
      "Epoch 25/50\n",
      "95/95 [==============================] - 4s 38ms/step - loss: 4.4664e-04\n",
      "Epoch 26/50\n",
      "95/95 [==============================] - 4s 37ms/step - loss: 3.1081e-04\n",
      "Epoch 27/50\n",
      "95/95 [==============================] - 4s 39ms/step - loss: 2.6140e-04\n",
      "Epoch 28/50\n",
      "95/95 [==============================] - 4s 37ms/step - loss: 2.3583e-04\n",
      "Epoch 29/50\n",
      "95/95 [==============================] - 4s 37ms/step - loss: 3.8110e-04\n",
      "Epoch 30/50\n",
      "95/95 [==============================] - 4s 38ms/step - loss: 2.5947e-04\n",
      "Epoch 31/50\n",
      "95/95 [==============================] - 4s 37ms/step - loss: 3.1736e-04\n",
      "Epoch 32/50\n",
      "95/95 [==============================] - 4s 37ms/step - loss: 3.7699e-04\n",
      "Epoch 33/50\n",
      "95/95 [==============================] - 4s 38ms/step - loss: 2.5536e-04\n",
      "Epoch 34/50\n",
      "95/95 [==============================] - 4s 37ms/step - loss: 3.3177e-04\n",
      "Epoch 35/50\n",
      "95/95 [==============================] - 4s 37ms/step - loss: 3.4191e-04\n",
      "Epoch 36/50\n",
      "95/95 [==============================] - 4s 38ms/step - loss: 2.3919e-04\n",
      "Epoch 37/50\n",
      "95/95 [==============================] - 4s 37ms/step - loss: 2.0707e-04\n",
      "Epoch 38/50\n",
      "95/95 [==============================] - 4s 38ms/step - loss: 2.4065e-04\n",
      "Epoch 39/50\n",
      "95/95 [==============================] - 4s 37ms/step - loss: 3.3660e-04\n",
      "Epoch 40/50\n",
      "95/95 [==============================] - 3s 36ms/step - loss: 5.3029e-04\n",
      "Epoch 41/50\n",
      "95/95 [==============================] - 3s 36ms/step - loss: 3.3865e-04\n",
      "Epoch 42/50\n",
      "95/95 [==============================] - 3s 37ms/step - loss: 2.9679e-04\n",
      "Epoch 43/50\n",
      "95/95 [==============================] - 3s 36ms/step - loss: 4.4413e-04\n",
      "Epoch 44/50\n",
      "95/95 [==============================] - 3s 36ms/step - loss: 2.9392e-04\n",
      "Epoch 45/50\n",
      "95/95 [==============================] - 3s 37ms/step - loss: 2.2106e-04\n",
      "Epoch 46/50\n",
      "95/95 [==============================] - 3s 37ms/step - loss: 3.4042e-04\n",
      "Epoch 47/50\n",
      "95/95 [==============================] - 4s 37ms/step - loss: 2.8803e-04\n",
      "Epoch 48/50\n",
      "95/95 [==============================] - 4s 38ms/step - loss: 2.1257e-04\n",
      "Epoch 49/50\n",
      "95/95 [==============================] - 4s 39ms/step - loss: 2.2887e-04\n",
      "Epoch 50/50\n",
      "95/95 [==============================] - 4s 38ms/step - loss: 3.1024e-04\n"
     ]
    },
    {
     "data": {
      "text/plain": [
       "<keras.src.callbacks.History at 0x212c78db910>"
      ]
     },
     "execution_count": 8,
     "metadata": {},
     "output_type": "execute_result"
    }
   ],
   "source": [
    "# Xây dựng mô hình LSTM\n",
    "unit = 210\n",
    "Dp =  0.07\n",
    "model = Sequential()\n",
    "model.add(LSTM(units=unit, return_sequences = True, input_shape=(X_train.shape[1], 1)))\n",
    "model.add(Dropout(Dp))\n",
    "model.add(LSTM(units = unit, return_sequences = True))\n",
    "model.add(Dropout(Dp))\n",
    "model.add(LSTM(units = unit, return_sequences = True))\n",
    "model.add(Dropout(Dp))\n",
    "model.add(LSTM(units = unit, return_sequences = True))\n",
    "model.add(Dropout(Dp))\n",
    "model.add(LSTM(units = unit, return_sequences = True))\n",
    "model.add(Dropout(Dp))\n",
    "model.add(LSTM(units = unit))\n",
    "model.add(Dropout(Dp))\n",
    "model.add(Dense(units = 1))\n",
    "model.compile(optimizer='adam', loss='mean_squared_error')\n",
    "model.fit(X_train, y_train, epochs=50, batch_size=32)"
   ]
  },
  {
   "cell_type": "code",
   "execution_count": 9,
   "id": "ee9e826c",
   "metadata": {},
   "outputs": [
    {
     "name": "stdout",
     "output_type": "stream",
     "text": [
      "[*********************100%%**********************]  1 of 1 completed\n"
     ]
    }
   ],
   "source": [
    "end = \"2023-09-01\"\n",
    "datas = yf.download(company, start, end)\n",
    "# Lấy cột Adj Close làm dữ liệu đầu vào\n",
    "data_test = datas['Close'].values.reshape(-1, 1)\n",
    "data_test = data_test[len(data) - look_back:]\n",
    "test_data_norm = scaler.fit_transform(data_test)\n",
    "# Tạo dữ liệu cho quá trình huấn luyện\n",
    "X_test = []\n",
    "y_test = []\n",
    "for i in range(look_back, len(test_data_norm)):\n",
    "    X_test.append(test_data_norm[i-look_back:i, 0])\n",
    "    y_test.append(test_data_norm[i, 0])\n",
    "X_test, y_test = np.array(X_test), np.array(y_test)\n",
    "# Reshape dữ liệu cho phù hợp với đầu vào của LSTM\n",
    "X_test = np.reshape(X_test, (X_test.shape[0], X_test.shape[1], 1))"
   ]
  },
  {
   "cell_type": "code",
   "execution_count": 10,
   "id": "aadd08cf",
   "metadata": {},
   "outputs": [],
   "source": [
    "data_predict = datas[int(len(datas))-look_back:]\n",
    "data_predict = np.array(data_predict)\n",
    "# tính toán"
   ]
  },
  {
   "cell_type": "code",
   "execution_count": 11,
   "id": "799d2e5a",
   "metadata": {},
   "outputs": [],
   "source": [
    "# data_predict"
   ]
  },
  {
   "cell_type": "code",
   "execution_count": 12,
   "id": "177f6314",
   "metadata": {},
   "outputs": [
    {
     "name": "stdout",
     "output_type": "stream",
     "text": [
      "14/14 [==============================] - 3s 14ms/step\n"
     ]
    }
   ],
   "source": [
    "next_day_norm = model.predict(X_test)\n",
    "y_predict = scaler.inverse_transform(next_day_norm)\n",
    "# chuyển về dữ liệu thực"
   ]
  },
  {
   "cell_type": "code",
   "execution_count": 13,
   "id": "1f49e4cd",
   "metadata": {},
   "outputs": [],
   "source": [
    "y_predict = y_predict.flatten()\n",
    "# lấy giá trị trung bình của kết quả dụ đoán /trung bình là 10/ngày"
   ]
  },
  {
   "cell_type": "code",
   "execution_count": 14,
   "id": "a6d2f180",
   "metadata": {},
   "outputs": [
    {
     "data": {
      "text/html": [
       "<div>\n",
       "<style scoped>\n",
       "    .dataframe tbody tr th:only-of-type {\n",
       "        vertical-align: middle;\n",
       "    }\n",
       "\n",
       "    .dataframe tbody tr th {\n",
       "        vertical-align: top;\n",
       "    }\n",
       "\n",
       "    .dataframe thead th {\n",
       "        text-align: right;\n",
       "    }\n",
       "</style>\n",
       "<table border=\"1\" class=\"dataframe\">\n",
       "  <thead>\n",
       "    <tr style=\"text-align: right;\">\n",
       "      <th></th>\n",
       "      <th>y_predict</th>\n",
       "      <th>THUC TE</th>\n",
       "    </tr>\n",
       "  </thead>\n",
       "  <tbody>\n",
       "    <tr>\n",
       "      <th>0</th>\n",
       "      <td>181.707123</td>\n",
       "      <td>182.009995</td>\n",
       "    </tr>\n",
       "    <tr>\n",
       "      <th>1</th>\n",
       "      <td>181.909424</td>\n",
       "      <td>179.699997</td>\n",
       "    </tr>\n",
       "    <tr>\n",
       "      <th>2</th>\n",
       "      <td>182.092239</td>\n",
       "      <td>174.919998</td>\n",
       "    </tr>\n",
       "    <tr>\n",
       "      <th>3</th>\n",
       "      <td>181.922791</td>\n",
       "      <td>172.000000</td>\n",
       "    </tr>\n",
       "    <tr>\n",
       "      <th>4</th>\n",
       "      <td>180.973373</td>\n",
       "      <td>172.169998</td>\n",
       "    </tr>\n",
       "    <tr>\n",
       "      <th>...</th>\n",
       "      <td>...</td>\n",
       "      <td>...</td>\n",
       "    </tr>\n",
       "    <tr>\n",
       "      <th>413</th>\n",
       "      <td>180.595230</td>\n",
       "      <td>178.610001</td>\n",
       "    </tr>\n",
       "    <tr>\n",
       "      <th>414</th>\n",
       "      <td>181.336075</td>\n",
       "      <td>180.190002</td>\n",
       "    </tr>\n",
       "    <tr>\n",
       "      <th>415</th>\n",
       "      <td>181.863113</td>\n",
       "      <td>184.119995</td>\n",
       "    </tr>\n",
       "    <tr>\n",
       "      <th>416</th>\n",
       "      <td>182.101242</td>\n",
       "      <td>187.649994</td>\n",
       "    </tr>\n",
       "    <tr>\n",
       "      <th>417</th>\n",
       "      <td>184.547028</td>\n",
       "      <td>187.869995</td>\n",
       "    </tr>\n",
       "  </tbody>\n",
       "</table>\n",
       "<p>418 rows × 2 columns</p>\n",
       "</div>"
      ],
      "text/plain": [
       "      y_predict     THUC TE\n",
       "0    181.707123  182.009995\n",
       "1    181.909424  179.699997\n",
       "2    182.092239  174.919998\n",
       "3    181.922791  172.000000\n",
       "4    180.973373  172.169998\n",
       "..          ...         ...\n",
       "413  180.595230  178.610001\n",
       "414  181.336075  180.190002\n",
       "415  181.863113  184.119995\n",
       "416  182.101242  187.649994\n",
       "417  184.547028  187.869995\n",
       "\n",
       "[418 rows x 2 columns]"
      ]
     },
     "execution_count": 14,
     "metadata": {},
     "output_type": "execute_result"
    }
   ],
   "source": [
    "# tạo 1 cái data giữa giá trị thực tế và giá trị dự đoán\n",
    "df_predict = pd.DataFrame(y_predict)\n",
    "df_predict.columns = ['y_predict']\n",
    "y = datas['Close'].values.reshape(-1, 1)\n",
    "y = y[len(data):]\n",
    "y = pd.DataFrame(y)\n",
    "y.columns = ['THUC TE']\n",
    "df_test = pd.concat([df_predict, y], axis = 1)\n",
    "# xuất data \n",
    "df_test "
   ]
  },
  {
   "cell_type": "code",
   "execution_count": 15,
   "id": "832976d1",
   "metadata": {},
   "outputs": [
    {
     "data": {
      "text/plain": [
       "<function matplotlib.pyplot.show(close=None, block=None)>"
      ]
     },
     "execution_count": 15,
     "metadata": {},
     "output_type": "execute_result"
    },
    {
     "data": {
      "image/png": "[encoded data removed]",
      "text/plain": [
       "<Figure size 1200x500 with 1 Axes>"
      ]
     },
     "metadata": {},
     "output_type": "display_data"
    }
   ],
   "source": [
    "df_test['y_predict'].plot(figsize=(12,5))\n",
    "df_test['THUC TE'].plot()\n",
    "plt.legend()\n",
    "plt.show"
   ]
  },
  {
   "cell_type": "code",
   "execution_count": 16,
   "id": "a2ba24ab",
   "metadata": {},
   "outputs": [],
   "source": [
    "from sklearn.metrics import mean_squared_error, mean_absolute_error, r2_score\n",
    "duDoan = df_test['y_predict'].values\n",
    "thucTe = df_test['THUC TE'].values\n",
    "# tạo biến để tính toán phương sai và độ lệch chuẩn cùng tính toán hiệu xuất mô hình"
   ]
  },
  {
   "cell_type": "code",
   "execution_count": 17,
   "id": "41ab3dda",
   "metadata": {},
   "outputs": [
    {
     "name": "stdout",
     "output_type": "stream",
     "text": [
      "Mean Squared Error: 21.421340362163278\n",
      "Mean Absolute Error: 3.648508135781904\n"
     ]
    }
   ],
   "source": [
    "mse = mean_squared_error(duDoan, thucTe)\n",
    "mae = mean_absolute_error(duDoan, thucTe)\n",
    "print(\"Mean Squared Error:\", mse)\n",
    "print(\"Mean Absolute Error:\", mae)"
   ]
  },
  {
   "cell_type": "code",
   "execution_count": 18,
   "id": "b61f0fc7",
   "metadata": {},
   "outputs": [],
   "source": [
    "# labelexcel = ['mse', 'mae', 'sum_cv_thuc', 'sum_cv_predict']"
   ]
  },
  {
   "cell_type": "code",
   "execution_count": 19,
   "id": "afca4dce",
   "metadata": {},
   "outputs": [
    {
     "name": "stdout",
     "output_type": "stream",
     "text": [
      "R2 Score: 0.9255\n"
     ]
    }
   ],
   "source": [
    "r2 = r2_score(duDoan, thucTe)\n",
    "r2 = \"{:.4f}\".format(r2)\n",
    "print(\"R2 Score:\", r2)\n",
    "# tính toán hiệu xuất mô hình "
   ]
  },
  {
   "cell_type": "code",
   "execution_count": null,
   "id": "08b1c2ec",
   "metadata": {},
   "outputs": [],
   "source": []
  },
  {
   "cell_type": "code",
   "execution_count": null,
   "id": "41655d05-c9f5-4939-b690-aa6f6a207815",
   "metadata": {},
   "outputs": [],
   "source": []
  },
  {
   "cell_type": "code",
   "execution_count": null,
   "id": "852c8bbc-7016-4e23-94ee-914bc11b2eea",
   "metadata": {},
   "outputs": [],
   "source": []
  }
 ],
 "metadata": {
  "kernelspec": {
   "display_name": "Python 3 (ipykernel)",
   "language": "python",
   "name": "python3"
  },
  "language_info": {
   "codemirror_mode": {
    "name": "ipython",
    "version": 3
   },
   "file_extension": ".py",
   "mimetype": "text/x-python",
   "name": "python",
   "nbconvert_exporter": "python",
   "pygments_lexer": "ipython3",
   "version": "3.11.5"
  }
 },
 "nbformat": 4,
 "nbformat_minor": 5
}
